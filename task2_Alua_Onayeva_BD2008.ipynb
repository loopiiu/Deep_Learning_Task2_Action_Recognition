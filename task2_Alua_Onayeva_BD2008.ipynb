{
 "cells": [
  {
   "cell_type": "code",
   "execution_count": 1,
   "id": "0856f7ef",
   "metadata": {},
   "outputs": [],
   "source": [
    "import keras\n",
    "import numpy as np\n",
    "import pandas as pd\n",
    "from sklearn.model_selection import train_test_split\n",
    "from sklearn.preprocessing import MinMaxScaler, StandardScaler\n",
    "from sklearn.metrics import accuracy_score, precision_score, recall_score, f1_score, classification_report, confusion_matrix, roc_auc_score, roc_curve\n",
    "from keras.models import Sequential\n",
    "from keras.layers import Dense\n",
    "import tensorflow as tf\n",
    "import matplotlib as mpl\n",
    "import matplotlib.pyplot as plt\n",
    "import os\n",
    "import seaborn as sns\n",
    "# warnings.filterwarnings('ignore')"
   ]
  },
  {
   "cell_type": "code",
   "execution_count": 2,
   "id": "f9c4ce19",
   "metadata": {},
   "outputs": [],
   "source": [
    "import warnings\n",
    "warnings.filterwarnings('ignore')"
   ]
  },
  {
   "cell_type": "markdown",
   "id": "cb8ae0e1",
   "metadata": {},
   "source": [
    "## About the task"
   ]
  },
  {
   "cell_type": "markdown",
   "id": "15d1e2ce",
   "metadata": {},
   "source": [
    "We have got a dataset derivedfrom the video sources, in which people are performing different actions, such as running, walking and so on. <br>\n",
    "\n",
    "For every position of the body part we have different coordinates of them. We have 'Nose_x0', 'RShouler_y2' and etc.<br> \n",
    "\n",
    "In this task, we are expected to predict the type of action based on the coordinates of these parameters. <br>\n",
    "\n",
    "So, briefly this is a problem of __multi-class classification.__<br>\n",
    "\n",
    "We will use 2 different methods in order to choose this task:\n",
    "\n",
    "- The first one is Feed-Forward Neural Network (FFNN).\n",
    "\n",
    "- The second one is long short-term memory (LSTM), which is a type of RNN, so it will predict the results based on the previous and following recordings. <br>\n",
    "In our case, it is supposed to be the best decision, since there is a dependence between actions. "
   ]
  },
  {
   "cell_type": "markdown",
   "id": "b97a6b9c",
   "metadata": {},
   "source": [
    "### Importing dataset"
   ]
  },
  {
   "cell_type": "code",
   "execution_count": 3,
   "id": "8956a014",
   "metadata": {},
   "outputs": [
    {
     "data": {
      "text/html": [
       "<div>\n",
       "<style scoped>\n",
       "    .dataframe tbody tr th:only-of-type {\n",
       "        vertical-align: middle;\n",
       "    }\n",
       "\n",
       "    .dataframe tbody tr th {\n",
       "        vertical-align: top;\n",
       "    }\n",
       "\n",
       "    .dataframe thead th {\n",
       "        text-align: right;\n",
       "    }\n",
       "</style>\n",
       "<table border=\"1\" class=\"dataframe\">\n",
       "  <thead>\n",
       "    <tr style=\"text-align: right;\">\n",
       "      <th></th>\n",
       "      <th>id</th>\n",
       "      <th>Nose_x0</th>\n",
       "      <th>Nose_y0</th>\n",
       "      <th>Neck_x1</th>\n",
       "      <th>Neck_y1</th>\n",
       "      <th>RShoulder_x2</th>\n",
       "      <th>RShoulder_y2</th>\n",
       "      <th>Relbow_x3</th>\n",
       "      <th>RElbow_y3</th>\n",
       "      <th>RWrist_x4</th>\n",
       "      <th>...</th>\n",
       "      <th>REye_x14</th>\n",
       "      <th>REye_y14</th>\n",
       "      <th>LEye_x15</th>\n",
       "      <th>LEye_y15</th>\n",
       "      <th>REar_x16</th>\n",
       "      <th>REar_y16</th>\n",
       "      <th>LEar_x17</th>\n",
       "      <th>LEar_y17</th>\n",
       "      <th>action</th>\n",
       "      <th>video_src</th>\n",
       "    </tr>\n",
       "  </thead>\n",
       "  <tbody>\n",
       "    <tr>\n",
       "      <th>0</th>\n",
       "      <td>1</td>\n",
       "      <td>76</td>\n",
       "      <td>23</td>\n",
       "      <td>82</td>\n",
       "      <td>33</td>\n",
       "      <td>80</td>\n",
       "      <td>32</td>\n",
       "      <td>73</td>\n",
       "      <td>38</td>\n",
       "      <td>61</td>\n",
       "      <td>...</td>\n",
       "      <td>76</td>\n",
       "      <td>21</td>\n",
       "      <td>78</td>\n",
       "      <td>22</td>\n",
       "      <td>0</td>\n",
       "      <td>0</td>\n",
       "      <td>83</td>\n",
       "      <td>23</td>\n",
       "      <td>boxing</td>\n",
       "      <td>person01_boxing_d1_uncomp.avi</td>\n",
       "    </tr>\n",
       "    <tr>\n",
       "      <th>1</th>\n",
       "      <td>2</td>\n",
       "      <td>76</td>\n",
       "      <td>22</td>\n",
       "      <td>82</td>\n",
       "      <td>32</td>\n",
       "      <td>80</td>\n",
       "      <td>31</td>\n",
       "      <td>71</td>\n",
       "      <td>36</td>\n",
       "      <td>62</td>\n",
       "      <td>...</td>\n",
       "      <td>76</td>\n",
       "      <td>20</td>\n",
       "      <td>78</td>\n",
       "      <td>20</td>\n",
       "      <td>0</td>\n",
       "      <td>0</td>\n",
       "      <td>82</td>\n",
       "      <td>22</td>\n",
       "      <td>boxing</td>\n",
       "      <td>person01_boxing_d1_uncomp.avi</td>\n",
       "    </tr>\n",
       "    <tr>\n",
       "      <th>2</th>\n",
       "      <td>3</td>\n",
       "      <td>77</td>\n",
       "      <td>21</td>\n",
       "      <td>83</td>\n",
       "      <td>33</td>\n",
       "      <td>81</td>\n",
       "      <td>31</td>\n",
       "      <td>72</td>\n",
       "      <td>36</td>\n",
       "      <td>63</td>\n",
       "      <td>...</td>\n",
       "      <td>0</td>\n",
       "      <td>0</td>\n",
       "      <td>79</td>\n",
       "      <td>20</td>\n",
       "      <td>0</td>\n",
       "      <td>0</td>\n",
       "      <td>82</td>\n",
       "      <td>22</td>\n",
       "      <td>boxing</td>\n",
       "      <td>person01_boxing_d1_uncomp.avi</td>\n",
       "    </tr>\n",
       "    <tr>\n",
       "      <th>3</th>\n",
       "      <td>4</td>\n",
       "      <td>78</td>\n",
       "      <td>21</td>\n",
       "      <td>84</td>\n",
       "      <td>32</td>\n",
       "      <td>82</td>\n",
       "      <td>31</td>\n",
       "      <td>73</td>\n",
       "      <td>37</td>\n",
       "      <td>64</td>\n",
       "      <td>...</td>\n",
       "      <td>79</td>\n",
       "      <td>20</td>\n",
       "      <td>80</td>\n",
       "      <td>20</td>\n",
       "      <td>0</td>\n",
       "      <td>0</td>\n",
       "      <td>84</td>\n",
       "      <td>22</td>\n",
       "      <td>boxing</td>\n",
       "      <td>person01_boxing_d1_uncomp.avi</td>\n",
       "    </tr>\n",
       "    <tr>\n",
       "      <th>4</th>\n",
       "      <td>5</td>\n",
       "      <td>78</td>\n",
       "      <td>21</td>\n",
       "      <td>84</td>\n",
       "      <td>31</td>\n",
       "      <td>82</td>\n",
       "      <td>31</td>\n",
       "      <td>77</td>\n",
       "      <td>41</td>\n",
       "      <td>67</td>\n",
       "      <td>...</td>\n",
       "      <td>0</td>\n",
       "      <td>0</td>\n",
       "      <td>79</td>\n",
       "      <td>20</td>\n",
       "      <td>0</td>\n",
       "      <td>0</td>\n",
       "      <td>84</td>\n",
       "      <td>22</td>\n",
       "      <td>boxing</td>\n",
       "      <td>person01_boxing_d1_uncomp.avi</td>\n",
       "    </tr>\n",
       "  </tbody>\n",
       "</table>\n",
       "<p>5 rows × 39 columns</p>\n",
       "</div>"
      ],
      "text/plain": [
       "   id  Nose_x0  Nose_y0  Neck_x1  Neck_y1  RShoulder_x2  RShoulder_y2  \\\n",
       "0   1       76       23       82       33            80            32   \n",
       "1   2       76       22       82       32            80            31   \n",
       "2   3       77       21       83       33            81            31   \n",
       "3   4       78       21       84       32            82            31   \n",
       "4   5       78       21       84       31            82            31   \n",
       "\n",
       "   Relbow_x3  RElbow_y3  RWrist_x4  ...  REye_x14  REye_y14  LEye_x15  \\\n",
       "0         73         38         61  ...        76        21        78   \n",
       "1         71         36         62  ...        76        20        78   \n",
       "2         72         36         63  ...         0         0        79   \n",
       "3         73         37         64  ...        79        20        80   \n",
       "4         77         41         67  ...         0         0        79   \n",
       "\n",
       "   LEye_y15  REar_x16  REar_y16  LEar_x17  LEar_y17  action  \\\n",
       "0        22         0         0        83        23  boxing   \n",
       "1        20         0         0        82        22  boxing   \n",
       "2        20         0         0        82        22  boxing   \n",
       "3        20         0         0        84        22  boxing   \n",
       "4        20         0         0        84        22  boxing   \n",
       "\n",
       "                       video_src  \n",
       "0  person01_boxing_d1_uncomp.avi  \n",
       "1  person01_boxing_d1_uncomp.avi  \n",
       "2  person01_boxing_d1_uncomp.avi  \n",
       "3  person01_boxing_d1_uncomp.avi  \n",
       "4  person01_boxing_d1_uncomp.avi  \n",
       "\n",
       "[5 rows x 39 columns]"
      ]
     },
     "execution_count": 3,
     "metadata": {},
     "output_type": "execute_result"
    }
   ],
   "source": [
    "df = pd.read_csv('actionDataset.csv', sep=';', decimal=\",\")\n",
    "df.head()"
   ]
  },
  {
   "cell_type": "markdown",
   "id": "499c05dc",
   "metadata": {},
   "source": [
    "All column types are 'int64' except for 'action','video_src'."
   ]
  },
  {
   "cell_type": "code",
   "execution_count": 4,
   "id": "519966ae",
   "metadata": {},
   "outputs": [
    {
     "name": "stdout",
     "output_type": "stream",
     "text": [
      "<class 'pandas.core.frame.DataFrame'>\n",
      "RangeIndex: 179346 entries, 0 to 179345\n",
      "Data columns (total 39 columns):\n",
      " #   Column        Non-Null Count   Dtype \n",
      "---  ------        --------------   ----- \n",
      " 0   id            179346 non-null  int64 \n",
      " 1   Nose_x0       179346 non-null  int64 \n",
      " 2   Nose_y0       179346 non-null  int64 \n",
      " 3   Neck_x1       179346 non-null  int64 \n",
      " 4   Neck_y1       179346 non-null  int64 \n",
      " 5   RShoulder_x2  179346 non-null  int64 \n",
      " 6   RShoulder_y2  179346 non-null  int64 \n",
      " 7   Relbow_x3     179346 non-null  int64 \n",
      " 8   RElbow_y3     179346 non-null  int64 \n",
      " 9   RWrist_x4     179346 non-null  int64 \n",
      " 10  RWrist_y4     179346 non-null  int64 \n",
      " 11  LShoulder_x5  179346 non-null  int64 \n",
      " 12  LShoulder_y5  179346 non-null  int64 \n",
      " 13  LElbow_x6     179346 non-null  int64 \n",
      " 14  LElbow_y6     179346 non-null  int64 \n",
      " 15  LWrist_x7     179346 non-null  int64 \n",
      " 16  LWrist_y7     179346 non-null  int64 \n",
      " 17  RHip_x8       179346 non-null  int64 \n",
      " 18  RHip_y8       179346 non-null  int64 \n",
      " 19  RKnee_x9      179346 non-null  int64 \n",
      " 20  RKnee_y9      179346 non-null  int64 \n",
      " 21  RAnkle_x10    179346 non-null  int64 \n",
      " 22  RAnkle_y10    179346 non-null  int64 \n",
      " 23  LHip_x11      179346 non-null  int64 \n",
      " 24  LHip_y11      179346 non-null  int64 \n",
      " 25  LKnee_x12     179346 non-null  int64 \n",
      " 26  LKnee_y12     179346 non-null  int64 \n",
      " 27  LAnkle_x13    179346 non-null  int64 \n",
      " 28  LAnkle_y13    179346 non-null  int64 \n",
      " 29  REye_x14      179346 non-null  int64 \n",
      " 30  REye_y14      179346 non-null  int64 \n",
      " 31  LEye_x15      179346 non-null  int64 \n",
      " 32  LEye_y15      179346 non-null  int64 \n",
      " 33  REar_x16      179346 non-null  int64 \n",
      " 34  REar_y16      179346 non-null  int64 \n",
      " 35  LEar_x17      179346 non-null  int64 \n",
      " 36  LEar_y17      179346 non-null  int64 \n",
      " 37  action        179346 non-null  object\n",
      " 38  video_src     179346 non-null  object\n",
      "dtypes: int64(37), object(2)\n",
      "memory usage: 53.4+ MB\n"
     ]
    }
   ],
   "source": [
    "df.info()"
   ]
  },
  {
   "cell_type": "markdown",
   "id": "5f113853",
   "metadata": {},
   "source": [
    "### Visualizaions of several columns"
   ]
  },
  {
   "cell_type": "code",
   "execution_count": 5,
   "id": "05b31862",
   "metadata": {},
   "outputs": [
    {
     "data": {
      "image/png": "[encoded data removed]",
      "text/plain": [
       "<Figure size 1500x500 with 1 Axes>"
      ]
     },
     "metadata": {},
     "output_type": "display_data"
    }
   ],
   "source": [
    "fig, ((axes1)) = plt.subplots(1,1, figsize=(15,5))\n",
    "sns.histplot(data = df, x = 'Nose_x0', ax = axes1)\n",
    "axes1.set_title('Frequency of Nose_x0', fontsize=15)\n",
    "plt.show()"
   ]
  },
  {
   "cell_type": "code",
   "execution_count": 6,
   "id": "c62a6b70",
   "metadata": {},
   "outputs": [
    {
     "data": {
      "image/png": "[encoded data removed]",
      "text/plain": [
       "<Figure size 1500x500 with 1 Axes>"
      ]
     },
     "metadata": {},
     "output_type": "display_data"
    }
   ],
   "source": [
    "fig, ((axes1)) = plt.subplots(1,1, figsize=(15,5))\n",
    "sns.histplot(data = df, x = 'Nose_y0', ax = axes1)\n",
    "axes1.set_title('Frequency of Nose_y0', fontsize=15)\n",
    "plt.show()"
   ]
  },
  {
   "cell_type": "markdown",
   "id": "e0730048",
   "metadata": {},
   "source": [
    "### Distribution of actions"
   ]
  },
  {
   "cell_type": "code",
   "execution_count": 7,
   "id": "f8c6a7b1",
   "metadata": {},
   "outputs": [
    {
     "data": {
      "image/png": "[encoded data removed]",
      "text/plain": [
       "<Figure size 640x480 with 1 Axes>"
      ]
     },
     "metadata": {},
     "output_type": "display_data"
    }
   ],
   "source": [
    "ax=sns.countplot(x ='action', data = df, palette = \"Set2\")\n",
    "ax.bar_label(ax.containers[0])\n",
    "plt.title('Actions distribution')\n",
    "plt.show()"
   ]
  },
  {
   "cell_type": "code",
   "execution_count": 8,
   "id": "6875e063",
   "metadata": {},
   "outputs": [
    {
     "data": {
      "text/plain": [
       "person17_handwaving_d2_uncomp.avi    824\n",
       "person18_boxing_d3_uncomp.avi        782\n",
       "person07_handwaving_d1_uncomp.avi    781\n",
       "person07_handwaving_d4_uncomp.avi    777\n",
       "person07_handwaving_d2_uncomp.avi    750\n",
       "                                    ... \n",
       "person09_running_d1_uncomp.avi        36\n",
       "person08_running_d1_uncomp.avi        36\n",
       "person23_running_d3_uncomp.avi        31\n",
       "person23_running_d1_uncomp.avi        27\n",
       "person09_running_d3_uncomp.avi        16\n",
       "Name: video_src, Length: 499, dtype: int64"
      ]
     },
     "execution_count": 8,
     "metadata": {},
     "output_type": "execute_result"
    }
   ],
   "source": [
    "df.video_src.value_counts()"
   ]
  },
  {
   "cell_type": "code",
   "execution_count": 9,
   "id": "a5ad46df",
   "metadata": {},
   "outputs": [
    {
     "name": "stdout",
     "output_type": "stream",
     "text": [
      "Unique values of id table:  179346\n",
      "(179346, 37)\n"
     ]
    }
   ],
   "source": [
    "# All values are unique that is why we can delete 'id' column\n",
    "print('Unique values of id table: ', df.id.nunique())\n",
    "\n",
    "# dropping 'video_src' since they don't have any relevant information\n",
    "df = df.drop(['id', 'video_src'], axis = 1)\n",
    "print(df.shape)"
   ]
  },
  {
   "cell_type": "markdown",
   "id": "f5c3d3f6",
   "metadata": {},
   "source": [
    "## LSTM - First model"
   ]
  },
  {
   "cell_type": "markdown",
   "id": "6d3b5d9e",
   "metadata": {},
   "source": [
    "### Briefly about LSTM\n",
    "\n",
    "__LSTM__ stands for long short-term memory networks, used in the field of Deep Learning. <br>\n",
    "It is a variety of recurrent neural networks (RNNs) that are capable of learning long-term dependencies, especially in sequence prediction problems. <br>\n",
    "LSTM has __feedback connections__, i.e., it is capable of processing the entire sequence of data, apart from single data points such as images."
   ]
  },
  {
   "cell_type": "code",
   "execution_count": 10,
   "id": "bae0802e",
   "metadata": {},
   "outputs": [],
   "source": [
    "random_seed = 42   \n",
    "n_time_steps = 50 \n",
    "n_features = 3 \n",
    "step = 10 \n",
    "n_classes = 6 \n",
    "n_epochs = 50       \n",
    "batch_size = 1024   \n",
    "learning_rate = 0.0025\n",
    "l2_loss = 0.0015"
   ]
  },
  {
   "cell_type": "code",
   "execution_count": 11,
   "id": "45992999",
   "metadata": {},
   "outputs": [],
   "source": [
    "from scipy import stats"
   ]
  },
  {
   "cell_type": "code",
   "execution_count": 12,
   "id": "8ba37d56",
   "metadata": {},
   "outputs": [],
   "source": [
    "df_train = df[df.index <= 107608]\n",
    "df_test = df[df.index > 107608]"
   ]
  },
  {
   "cell_type": "code",
   "execution_count": 13,
   "id": "e5719ac3",
   "metadata": {},
   "outputs": [],
   "source": [
    "X = df.drop('action', axis=1)\n",
    "y = df.action"
   ]
  },
  {
   "cell_type": "code",
   "execution_count": 14,
   "id": "4f5119e3",
   "metadata": {},
   "outputs": [],
   "source": [
    "from sklearn.preprocessing import RobustScaler\n",
    "\n",
    "scale_columns = X.columns.values.tolist()\n",
    "scaler = RobustScaler()\n",
    "scaler = scaler.fit(df_train[scale_columns])\n",
    "\n",
    "df_train.loc[:, scale_columns] = scaler.transform(\n",
    "  df_train[scale_columns].to_numpy()\n",
    ")\n",
    "\n",
    "df_test.loc[:, scale_columns] = scaler.transform(\n",
    "  df_test[scale_columns].to_numpy()\n",
    ")"
   ]
  },
  {
   "cell_type": "markdown",
   "id": "c8412d31",
   "metadata": {},
   "source": [
    "__Note:__ We fit the scaler only on the training data."
   ]
  },
  {
   "cell_type": "markdown",
   "id": "6d5e9d4e",
   "metadata": {},
   "source": [
    "Using the modes of each category in the sequence, we select the label. That is, we categorize it as the category that happens most frequently given a sequence of length time steps."
   ]
  },
  {
   "cell_type": "code",
   "execution_count": 15,
   "id": "7f2f7d8d",
   "metadata": {},
   "outputs": [],
   "source": [
    "def create_dataset(X, y, time_steps=1, step=1):\n",
    "    Xs, ys = [], []\n",
    "    for i in range(0, len(X) - time_steps, step):\n",
    "        v = X.iloc[i:(i + time_steps)].values\n",
    "        labels = y.iloc[i: i + time_steps]\n",
    "        Xs.append(v)\n",
    "        ys.append(stats.mode(labels)[0][0])\n",
    "    return np.array(Xs), np.array(ys).reshape(-1, 1)"
   ]
  },
  {
   "cell_type": "markdown",
   "id": "e2024dc9",
   "metadata": {},
   "source": [
    "### Creating sequences"
   ]
  },
  {
   "cell_type": "code",
   "execution_count": 16,
   "id": "3c6e3bf0",
   "metadata": {},
   "outputs": [],
   "source": [
    "TIME_STEPS = 200\n",
    "STEP = 40\n",
    "\n",
    "X_train, y_train = create_dataset(\n",
    "    df_train[X.columns.values.tolist()],\n",
    "    df_train.action,\n",
    "    TIME_STEPS,\n",
    "    STEP\n",
    ")\n",
    "\n",
    "X_test, y_test = create_dataset(\n",
    "    df_test[X.columns.values.tolist()],\n",
    "    df_test.action,\n",
    "    TIME_STEPS,\n",
    "    STEP\n",
    ")"
   ]
  },
  {
   "cell_type": "markdown",
   "id": "524f37b1",
   "metadata": {},
   "source": [
    "Shape of new sequences."
   ]
  },
  {
   "cell_type": "code",
   "execution_count": 17,
   "id": "721e9329",
   "metadata": {},
   "outputs": [
    {
     "name": "stdout",
     "output_type": "stream",
     "text": [
      "(2686, 200, 36) (2686, 1)\n"
     ]
    }
   ],
   "source": [
    "print(X_train.shape, y_train.shape)"
   ]
  },
  {
   "cell_type": "markdown",
   "id": "87aef2f8",
   "metadata": {},
   "source": [
    "As we can see, we reduced the amount of train and test data."
   ]
  },
  {
   "cell_type": "markdown",
   "id": "9ee598a4",
   "metadata": {},
   "source": [
    "### Encoding"
   ]
  },
  {
   "cell_type": "code",
   "execution_count": 18,
   "id": "d59ea5d5",
   "metadata": {},
   "outputs": [],
   "source": [
    "from sklearn.preprocessing import OneHotEncoder"
   ]
  },
  {
   "cell_type": "code",
   "execution_count": 19,
   "id": "d1c59e62",
   "metadata": {},
   "outputs": [],
   "source": [
    "enc = OneHotEncoder(handle_unknown='ignore', sparse=False)\n",
    "enc = enc.fit(y_train)\n",
    "y_train = enc.transform(y_train)\n",
    "y_test = enc.transform(y_test)"
   ]
  },
  {
   "cell_type": "markdown",
   "id": "c3a937dc",
   "metadata": {},
   "source": [
    "### Model architecture"
   ]
  },
  {
   "cell_type": "code",
   "execution_count": 20,
   "id": "2c8f527d",
   "metadata": {},
   "outputs": [],
   "source": [
    "model = keras.Sequential()\n",
    "model.add(\n",
    "    keras.layers.Bidirectional(\n",
    "      keras.layers.LSTM(units=128,input_shape=[X_train.shape[1], X_train.shape[2]])))\n",
    "model.add(keras.layers.Dropout(rate=0.5))\n",
    "model.add(keras.layers.Dense(units=128, activation='relu'))\n",
    "model.add(keras.layers.Dense(y_train.shape[1], activation='softmax'))\n",
    "model.compile(loss='categorical_crossentropy',optimizer='adam',metrics=['acc'])"
   ]
  },
  {
   "cell_type": "markdown",
   "id": "42317316",
   "metadata": {},
   "source": [
    "Training is straightforward -> shuffle=False."
   ]
  },
  {
   "cell_type": "code",
   "execution_count": 21,
   "id": "ab030910",
   "metadata": {},
   "outputs": [
    {
     "name": "stdout",
     "output_type": "stream",
     "text": [
      "Epoch 1/20\n",
      "76/76 [==============================] - 24s 269ms/step - loss: 1.0682 - acc: 0.7737 - val_loss: 2.1314 - val_acc: 0.0000e+00\n",
      "Epoch 2/20\n",
      "76/76 [==============================] - 20s 259ms/step - loss: 0.7416 - acc: 0.7220 - val_loss: 1.6415 - val_acc: 0.2974\n",
      "Epoch 3/20\n",
      "76/76 [==============================] - 21s 279ms/step - loss: 0.3878 - acc: 0.8672 - val_loss: 1.3177 - val_acc: 0.4721\n",
      "Epoch 4/20\n",
      "76/76 [==============================] - 20s 261ms/step - loss: 0.2641 - acc: 0.9028 - val_loss: 1.1235 - val_acc: 0.5874\n",
      "Epoch 5/20\n",
      "76/76 [==============================] - 19s 257ms/step - loss: 0.1923 - acc: 0.9301 - val_loss: 0.9559 - val_acc: 0.6952\n",
      "Epoch 6/20\n",
      "76/76 [==============================] - 21s 273ms/step - loss: 0.1664 - acc: 0.9350 - val_loss: 1.0100 - val_acc: 0.6208\n",
      "Epoch 7/20\n",
      "76/76 [==============================] - 20s 262ms/step - loss: 0.1241 - acc: 0.9561 - val_loss: 0.7710 - val_acc: 0.7063\n",
      "Epoch 8/20\n",
      "76/76 [==============================] - 20s 266ms/step - loss: 0.0979 - acc: 0.9690 - val_loss: 0.9734 - val_acc: 0.6877\n",
      "Epoch 9/20\n",
      "76/76 [==============================] - 20s 260ms/step - loss: 0.0698 - acc: 0.9768 - val_loss: 0.7032 - val_acc: 0.7546\n",
      "Epoch 10/20\n",
      "76/76 [==============================] - 19s 253ms/step - loss: 0.0574 - acc: 0.9801 - val_loss: 0.6465 - val_acc: 0.7844\n",
      "Epoch 11/20\n",
      "76/76 [==============================] - 19s 250ms/step - loss: 0.0734 - acc: 0.9777 - val_loss: 0.6664 - val_acc: 0.7509\n",
      "Epoch 12/20\n",
      "76/76 [==============================] - 19s 256ms/step - loss: 0.0797 - acc: 0.9764 - val_loss: 0.4326 - val_acc: 0.8773\n",
      "Epoch 13/20\n",
      "76/76 [==============================] - 19s 253ms/step - loss: 0.0749 - acc: 0.9760 - val_loss: 0.6057 - val_acc: 0.7955\n",
      "Epoch 14/20\n",
      "76/76 [==============================] - 19s 256ms/step - loss: 0.1011 - acc: 0.9686 - val_loss: 0.3727 - val_acc: 0.8662\n",
      "Epoch 15/20\n",
      "76/76 [==============================] - 20s 258ms/step - loss: 0.1296 - acc: 0.9661 - val_loss: 0.3153 - val_acc: 0.9071\n",
      "Epoch 16/20\n",
      "76/76 [==============================] - 19s 251ms/step - loss: 0.1270 - acc: 0.9603 - val_loss: 0.5337 - val_acc: 0.8699\n",
      "Epoch 17/20\n",
      "76/76 [==============================] - 19s 254ms/step - loss: 0.0976 - acc: 0.9686 - val_loss: 0.5523 - val_acc: 0.8364\n",
      "Epoch 18/20\n",
      "76/76 [==============================] - 19s 254ms/step - loss: 0.1009 - acc: 0.9743 - val_loss: 0.8522 - val_acc: 0.7472\n",
      "Epoch 19/20\n",
      "76/76 [==============================] - 19s 252ms/step - loss: 0.0469 - acc: 0.9888 - val_loss: 0.5086 - val_acc: 0.8550\n",
      "Epoch 20/20\n",
      "76/76 [==============================] - 19s 254ms/step - loss: 0.0256 - acc: 0.9921 - val_loss: 0.4191 - val_acc: 0.8848\n"
     ]
    }
   ],
   "source": [
    "history = model.fit(\n",
    "    X_train, y_train,\n",
    "    epochs=20,\n",
    "    batch_size=32,\n",
    "    validation_split=0.1,\n",
    "    shuffle=False\n",
    ")"
   ]
  },
  {
   "cell_type": "code",
   "execution_count": 22,
   "id": "4be9e24a",
   "metadata": {},
   "outputs": [
    {
     "name": "stdout",
     "output_type": "stream",
     "text": [
      "2/2 [==============================] - 1s 539ms/step - loss: 0.2255 - acc: 0.9206\n",
      "Accuracy : 0.9206260442733765\n",
      "Loss : 0.22549475729465485\n"
     ]
    }
   ],
   "source": [
    "loss, accuracy = model.evaluate(X_test, y_test, batch_size = batch_size, verbose = 1)\n",
    "print(\"Accuracy :\", accuracy)\n",
    "print(\"Loss :\", loss)"
   ]
  },
  {
   "cell_type": "markdown",
   "id": "5811bff1",
   "metadata": {},
   "source": [
    "__Result:__ Accuracy: 92.1% with a loss of 0.23. "
   ]
  },
  {
   "cell_type": "markdown",
   "id": "e30ed46a",
   "metadata": {},
   "source": [
    "### Confusion matrix"
   ]
  },
  {
   "cell_type": "code",
   "execution_count": 23,
   "id": "8b2443ff",
   "metadata": {},
   "outputs": [
    {
     "name": "stdout",
     "output_type": "stream",
     "text": [
      "56/56 [==============================] - 5s 80ms/step\n"
     ]
    },
    {
     "data": {
      "image/png": "[encoded data removed]",
      "text/plain": [
       "<Figure size 640x480 with 2 Axes>"
      ]
     },
     "metadata": {},
     "output_type": "display_data"
    }
   ],
   "source": [
    "import sklearn.metrics as metrics\n",
    "\n",
    "predictions = model.predict(X_test)\n",
    "class_labels = ['handwaving', 'boxing', 'handclapping', 'walking', 'running']\n",
    "max_test = np.argmax(y_test, axis=1)\n",
    "max_predictions = np.argmax(predictions, axis=1)\n",
    "confusion_matrix = metrics.confusion_matrix(max_test, max_predictions)\n",
    "sns.heatmap(confusion_matrix, xticklabels = class_labels, yticklabels = class_labels, annot = True, linewidths = 0.1, fmt='d', cmap = 'YlGnBu')\n",
    "plt.title(\"Confusion matrix\", fontsize = 15)\n",
    "plt.ylabel('True label')\n",
    "plt.xlabel('Predicted label')\n",
    "plt.show()"
   ]
  },
  {
   "cell_type": "markdown",
   "id": "666039ea",
   "metadata": {},
   "source": [
    "## LSTM - Second model"
   ]
  },
  {
   "cell_type": "markdown",
   "id": "764de95f",
   "metadata": {},
   "source": [
    "### Encoding"
   ]
  },
  {
   "cell_type": "code",
   "execution_count": 24,
   "id": "e9d2fc01",
   "metadata": {},
   "outputs": [
    {
     "data": {
      "text/plain": [
       "array([0, 1, 2, 3, 4])"
      ]
     },
     "execution_count": 24,
     "metadata": {},
     "output_type": "execute_result"
    }
   ],
   "source": [
    "from sklearn import preprocessing\n",
    "  \n",
    "label_encoder = preprocessing.LabelEncoder()\n",
    "df['action']= label_encoder.fit_transform(df['action'])\n",
    "df['action'].unique()"
   ]
  },
  {
   "cell_type": "markdown",
   "id": "c366a001",
   "metadata": {},
   "source": [
    "5 unique values of action, are now encoded as 0-4."
   ]
  },
  {
   "cell_type": "code",
   "execution_count": 25,
   "id": "fcea2f16",
   "metadata": {},
   "outputs": [],
   "source": [
    "random_seed = 42   \n",
    "n_time_steps = 50 \n",
    "n_features = 36 \n",
    "step = 10 \n",
    "n_classes = 6 \n",
    "n_epochs = 50       \n",
    "batch_size = 1024   \n",
    "learning_rate = 0.0025\n",
    "l2_loss = 0.0015"
   ]
  },
  {
   "cell_type": "markdown",
   "id": "47fafed7",
   "metadata": {},
   "source": [
    "### Generating sequence containing 50 records, since n_steps=50."
   ]
  },
  {
   "cell_type": "code",
   "execution_count": 26,
   "id": "15d6dba1",
   "metadata": {},
   "outputs": [],
   "source": [
    "step = 10\n",
    "n_steps = 50\n",
    "segments = []\n",
    "labels = []\n",
    "coords = df.columns[:-1]\n",
    "\n",
    "for i in range(0,  df.shape[0] - n_steps, step):  \n",
    "    d = {}\n",
    "    for coord in coords:\n",
    "        d[f'{coord}'] = df[f'{coord}'].values[i: i + n_steps]\n",
    "\n",
    "    label = stats.mode(df['action'][i: i + n_steps])[0][0]\n",
    "    segments.append(list(d.values()))\n",
    "    \n",
    "    labels.append(label)"
   ]
  },
  {
   "cell_type": "markdown",
   "id": "6aaf099c",
   "metadata": {},
   "source": [
    "Reshape the segments which is (list of arrays) to a list."
   ]
  },
  {
   "cell_type": "code",
   "execution_count": 27,
   "id": "4f146130",
   "metadata": {},
   "outputs": [],
   "source": [
    "reshaped_segments = np.asarray(segments, dtype= np.float32).reshape(-1, n_time_steps, n_features)\n",
    "\n",
    "labels = np.asarray(pd.get_dummies(labels), dtype = np.float32)"
   ]
  },
  {
   "cell_type": "code",
   "execution_count": 28,
   "id": "507ca4ce",
   "metadata": {},
   "outputs": [
    {
     "data": {
      "text/plain": [
       "(17930, 50, 36)"
      ]
     },
     "execution_count": 28,
     "metadata": {},
     "output_type": "execute_result"
    }
   ],
   "source": [
    "reshaped_segments.shape"
   ]
  },
  {
   "cell_type": "markdown",
   "id": "05425218",
   "metadata": {},
   "source": [
    "### Train and test split"
   ]
  },
  {
   "cell_type": "code",
   "execution_count": 29,
   "id": "19ebe65d",
   "metadata": {},
   "outputs": [],
   "source": [
    "from sklearn.model_selection import train_test_split\n",
    "X_train, X_test, y_train, y_test = train_test_split(reshaped_segments, labels, test_size = 0.2, random_state = random_seed)"
   ]
  },
  {
   "cell_type": "markdown",
   "id": "6c3ee297",
   "metadata": {},
   "source": [
    "### Model architecture"
   ]
  },
  {
   "cell_type": "code",
   "execution_count": 31,
   "id": "4ad3c0af",
   "metadata": {},
   "outputs": [],
   "source": [
    "from keras.models import Sequential\n",
    "from keras.layers import LSTM, Dense, Flatten, Dropout"
   ]
  },
  {
   "cell_type": "code",
   "execution_count": 32,
   "id": "1178b414",
   "metadata": {},
   "outputs": [],
   "source": [
    "model = Sequential()\n",
    "model.add(LSTM(units = 128, input_shape = (X_train.shape[1], X_train.shape[2])))\n",
    "model.add(Dropout(0.5)) \n",
    "model.add(Dense(units = 64, activation='relu'))\n",
    "model.add(Dense(5, activation = 'softmax'))\n",
    "model.compile(loss='categorical_crossentropy', optimizer='adam', metrics=['accuracy'])"
   ]
  },
  {
   "cell_type": "code",
   "execution_count": 33,
   "id": "b93b416e",
   "metadata": {},
   "outputs": [
    {
     "name": "stdout",
     "output_type": "stream",
     "text": [
      "Model: \"sequential_2\"\n",
      "_________________________________________________________________\n",
      " Layer (type)                Output Shape              Param #   \n",
      "=================================================================\n",
      " lstm_1 (LSTM)               (None, 128)               84480     \n",
      "                                                                 \n",
      " dropout_1 (Dropout)         (None, 128)               0         \n",
      "                                                                 \n",
      " dense_2 (Dense)             (None, 64)                8256      \n",
      "                                                                 \n",
      " dense_3 (Dense)             (None, 5)                 325       \n",
      "                                                                 \n",
      "=================================================================\n",
      "Total params: 93,061\n",
      "Trainable params: 93,061\n",
      "Non-trainable params: 0\n",
      "_________________________________________________________________\n"
     ]
    }
   ],
   "source": [
    "model.summary()"
   ]
  },
  {
   "cell_type": "code",
   "execution_count": 34,
   "id": "67671d48",
   "metadata": {},
   "outputs": [
    {
     "name": "stdout",
     "output_type": "stream",
     "text": [
      "Epoch 1/50\n",
      "15/15 [==============================] - 6s 246ms/step - loss: 1.2804 - accuracy: 0.4395\n",
      "Epoch 2/50\n",
      "15/15 [==============================] - 4s 246ms/step - loss: 0.9763 - accuracy: 0.5892\n",
      "Epoch 3/50\n",
      "15/15 [==============================] - 3s 221ms/step - loss: 0.8048 - accuracy: 0.6585\n",
      "Epoch 4/50\n",
      "15/15 [==============================] - 3s 221ms/step - loss: 0.7127 - accuracy: 0.6912\n",
      "Epoch 5/50\n",
      "15/15 [==============================] - 3s 225ms/step - loss: 0.6630 - accuracy: 0.7204\n",
      "Epoch 6/50\n",
      "15/15 [==============================] - 4s 249ms/step - loss: 0.5906 - accuracy: 0.7538\n",
      "Epoch 7/50\n",
      "15/15 [==============================] - 3s 230ms/step - loss: 0.5555 - accuracy: 0.7709\n",
      "Epoch 8/50\n",
      "15/15 [==============================] - 3s 215ms/step - loss: 0.5270 - accuracy: 0.7796\n",
      "Epoch 9/50\n",
      "15/15 [==============================] - 3s 220ms/step - loss: 0.5272 - accuracy: 0.7867\n",
      "Epoch 10/50\n",
      "15/15 [==============================] - 3s 231ms/step - loss: 0.5264 - accuracy: 0.7786\n",
      "Epoch 11/50\n",
      "15/15 [==============================] - 4s 243ms/step - loss: 0.4926 - accuracy: 0.8016\n",
      "Epoch 12/50\n",
      "15/15 [==============================] - 3s 228ms/step - loss: 0.4712 - accuracy: 0.8109\n",
      "Epoch 13/50\n",
      "15/15 [==============================] - 3s 218ms/step - loss: 0.4501 - accuracy: 0.8187\n",
      "Epoch 14/50\n",
      "15/15 [==============================] - 3s 215ms/step - loss: 0.4569 - accuracy: 0.8170\n",
      "Epoch 15/50\n",
      "15/15 [==============================] - 4s 245ms/step - loss: 0.4372 - accuracy: 0.8240\n",
      "Epoch 16/50\n",
      "15/15 [==============================] - 4s 238ms/step - loss: 0.4256 - accuracy: 0.8313\n",
      "Epoch 17/50\n",
      "15/15 [==============================] - 3s 218ms/step - loss: 0.4116 - accuracy: 0.8346\n",
      "Epoch 18/50\n",
      "15/15 [==============================] - 4s 237ms/step - loss: 0.4321 - accuracy: 0.8223\n",
      "Epoch 19/50\n",
      "15/15 [==============================] - 3s 227ms/step - loss: 0.4244 - accuracy: 0.8274\n",
      "Epoch 20/50\n",
      "15/15 [==============================] - 4s 245ms/step - loss: 0.4093 - accuracy: 0.8304\n",
      "Epoch 21/50\n",
      "15/15 [==============================] - 3s 227ms/step - loss: 0.4417 - accuracy: 0.8125\n",
      "Epoch 22/50\n",
      "15/15 [==============================] - 3s 214ms/step - loss: 0.4237 - accuracy: 0.8314\n",
      "Epoch 23/50\n",
      "15/15 [==============================] - 3s 215ms/step - loss: 0.4076 - accuracy: 0.8345\n",
      "Epoch 24/50\n",
      "15/15 [==============================] - 4s 235ms/step - loss: 0.4003 - accuracy: 0.8373\n",
      "Epoch 25/50\n",
      "15/15 [==============================] - 4s 237ms/step - loss: 0.3925 - accuracy: 0.8421\n",
      "Epoch 26/50\n",
      "15/15 [==============================] - 3s 220ms/step - loss: 0.4026 - accuracy: 0.8383\n",
      "Epoch 27/50\n",
      "15/15 [==============================] - 3s 220ms/step - loss: 0.3958 - accuracy: 0.8420\n",
      "Epoch 28/50\n",
      "15/15 [==============================] - 3s 217ms/step - loss: 0.4098 - accuracy: 0.8371\n",
      "Epoch 29/50\n",
      "15/15 [==============================] - 4s 241ms/step - loss: 0.4221 - accuracy: 0.8360\n",
      "Epoch 30/50\n",
      "15/15 [==============================] - 4s 249ms/step - loss: 0.4103 - accuracy: 0.8407\n",
      "Epoch 31/50\n",
      "15/15 [==============================] - 3s 215ms/step - loss: 0.4071 - accuracy: 0.8447\n",
      "Epoch 32/50\n",
      "15/15 [==============================] - 3s 216ms/step - loss: 0.4382 - accuracy: 0.8220\n",
      "Epoch 33/50\n",
      "15/15 [==============================] - 3s 223ms/step - loss: 0.4109 - accuracy: 0.8375\n",
      "Epoch 34/50\n",
      "15/15 [==============================] - 4s 239ms/step - loss: 0.4215 - accuracy: 0.8334\n",
      "Epoch 35/50\n",
      "15/15 [==============================] - 3s 226ms/step - loss: 0.3943 - accuracy: 0.8442\n",
      "Epoch 36/50\n",
      "15/15 [==============================] - 3s 216ms/step - loss: 0.3974 - accuracy: 0.8399\n",
      "Epoch 37/50\n",
      "15/15 [==============================] - 3s 216ms/step - loss: 0.3859 - accuracy: 0.8483\n",
      "Epoch 38/50\n",
      "15/15 [==============================] - 4s 247ms/step - loss: 0.3966 - accuracy: 0.8371\n",
      "Epoch 39/50\n",
      "15/15 [==============================] - 4s 235ms/step - loss: 0.3839 - accuracy: 0.8484\n",
      "Epoch 40/50\n",
      "15/15 [==============================] - 3s 222ms/step - loss: 0.3683 - accuracy: 0.8533\n",
      "Epoch 41/50\n",
      "15/15 [==============================] - 3s 221ms/step - loss: 0.3922 - accuracy: 0.8402\n",
      "Epoch 42/50\n",
      "15/15 [==============================] - 3s 218ms/step - loss: 0.3738 - accuracy: 0.8516\n",
      "Epoch 43/50\n",
      "15/15 [==============================] - 6s 315ms/step - loss: 0.3578 - accuracy: 0.8590\n",
      "Epoch 44/50\n",
      "15/15 [==============================] - 4s 251ms/step - loss: 0.4112 - accuracy: 0.8341\n",
      "Epoch 45/50\n",
      "15/15 [==============================] - 27s 2s/step - loss: 0.4063 - accuracy: 0.8310\n",
      "Epoch 46/50\n",
      "15/15 [==============================] - 5s 329ms/step - loss: 0.3869 - accuracy: 0.8514\n",
      "Epoch 47/50\n",
      "15/15 [==============================] - 2s 147ms/step - loss: 0.3702 - accuracy: 0.8529\n",
      "Epoch 48/50\n",
      "15/15 [==============================] - 2s 141ms/step - loss: 0.3877 - accuracy: 0.8412\n",
      "Epoch 49/50\n",
      "15/15 [==============================] - 2s 152ms/step - loss: 0.3805 - accuracy: 0.8530\n",
      "Epoch 50/50\n",
      "15/15 [==============================] - 2s 149ms/step - loss: 0.3646 - accuracy: 0.8570\n"
     ]
    }
   ],
   "source": [
    "history = model.fit(X_train, y_train, epochs = n_epochs, batch_size = batch_size, verbose = 1)"
   ]
  },
  {
   "cell_type": "code",
   "execution_count": 35,
   "id": "49132274",
   "metadata": {},
   "outputs": [
    {
     "name": "stdout",
     "output_type": "stream",
     "text": [
      "4/4 [==============================] - 1s 56ms/step - loss: 0.3554 - accuracy: 0.8634\n",
      "Accuracy : 0.8633574843406677\n",
      "Loss : 0.3554420471191406\n"
     ]
    }
   ],
   "source": [
    "loss, accuracy = model.evaluate(X_test, y_test, batch_size = batch_size, verbose = 1)\n",
    "print(\"Accuracy :\", accuracy)\n",
    "print(\"Loss :\", loss)"
   ]
  },
  {
   "cell_type": "markdown",
   "id": "5856718d",
   "metadata": {},
   "source": [
    "__Result:__ We have got an accuracy of 86% with a loss of 0.355."
   ]
  },
  {
   "cell_type": "markdown",
   "id": "9acd4cef",
   "metadata": {},
   "source": [
    "### Confusion matrix"
   ]
  },
  {
   "cell_type": "code",
   "execution_count": 36,
   "id": "de8a3a31",
   "metadata": {},
   "outputs": [
    {
     "name": "stdout",
     "output_type": "stream",
     "text": [
      "113/113 [==============================] - 3s 14ms/step\n"
     ]
    },
    {
     "data": {
      "image/png": "[encoded data removed]",
      "text/plain": [
       "<Figure size 640x480 with 2 Axes>"
      ]
     },
     "metadata": {},
     "output_type": "display_data"
    }
   ],
   "source": [
    "predictions = model.predict(X_test)\n",
    "class_labels = ['handwaving', 'boxing', 'handclapping', 'walking', 'running']\n",
    "max_test = np.argmax(y_test, axis=1)\n",
    "max_predictions = np.argmax(predictions, axis=1)\n",
    "confusion_matrix = metrics.confusion_matrix(max_test, max_predictions)\n",
    "sns.heatmap(confusion_matrix, xticklabels = class_labels, yticklabels = class_labels, annot = True, linewidths = 0.1, fmt='d', cmap = 'YlGnBu')\n",
    "plt.title(\"Confusion matrix\", fontsize = 15)\n",
    "plt.ylabel('True label')\n",
    "plt.xlabel('Predicted label')\n",
    "plt.show()"
   ]
  },
  {
   "cell_type": "markdown",
   "id": "f10a26dd",
   "metadata": {},
   "source": [
    "Pros:\n",
    "\n",
    "- LSTMs can effectively handle sequential data and long-term dependencies, making them suitable for tasks such as language modeling, speech recognition, and time series prediction.\n",
    "- LSTMs have a special type of memory cell that can retain information for long periods of time, which allows them to effectively process sequences of data.\n",
    "- LSTMs can handle variable-length sequences, which makes them more flexible than other types of RNNs.\n",
    "- LSTMs can be used for unsupervised learning, for example in autoencoders or variational autoencoder (VAE)\n",
    "\n",
    "Cons:\n",
    "\n",
    "- LSTMs can be computationally expensive to train and use, due to their complex architecture and the need to process sequential data.\n",
    "- LSTMs can be difficult to interpret and understand, making it harder to debug and improve the model.\n",
    "- LSTMs can be prone to overfitting, especially when the dataset is small or the model is not properly regularized.\n",
    "- LSTMs are not easily parallelizable, this means that the training process is slower than other types of neural networks.\n",
    "\n",
    "In summary, LSTMs are a powerful tool for tasks involving sequential data and long-term dependencies, but they can be computationally expensive and difficult to interpret. It's important to carefully consider the task and available resources before deciding to use an LSTM."
   ]
  },
  {
   "cell_type": "markdown",
   "id": "fa21e252",
   "metadata": {},
   "source": [
    "## Feedforward Neural Network (FFNN)"
   ]
  },
  {
   "cell_type": "markdown",
   "id": "a8aac2fc",
   "metadata": {},
   "source": [
    "FFNN (Feedforward Neural Network) are well-suited for tasks that do not involve sequential data and long-term dependencies"
   ]
  },
  {
   "cell_type": "markdown",
   "id": "d19aa8d3",
   "metadata": {},
   "source": [
    "Pros:\n",
    "\n",
    "- FFNNs can be used for a wide range of tasks, such as image classification, object detection, and recommender systems.\n",
    "- FFNNs are relatively simple to train and use, compared to other types of neural networks, such as recurrent neural networks (RNNs) or convolutional neural networks (CNNs).\n",
    "- FFNNs can be easily parallelizable, which means that the training process can be faster than other types of neural networks.\n",
    "- FFNNs are easily interpretable, this means that it's easy to understand how the model is making predictions.\n",
    "\n",
    "Cons:\n",
    "\n",
    "- FFNNs are not well-suited for tasks involving sequential data or long-term dependencies, as they do not have an inherent mechanism for preserving information over time.\n",
    "- FFNNs can be prone to overfitting, especially when the dataset is small or the model is not properly regularized.\n",
    "- FFNNs may not be as accurate as other types of neural networks, such as CNNs, for certain tasks, such as image classification or object detection.\n",
    "- FFNNs may require more data to train, to avoid overfitting or underfitting."
   ]
  },
  {
   "cell_type": "code",
   "execution_count": 37,
   "id": "a2d6ff3c",
   "metadata": {},
   "outputs": [],
   "source": [
    "X = df.drop('action', axis=1)\n",
    "y = df.action"
   ]
  },
  {
   "cell_type": "code",
   "execution_count": 38,
   "id": "ba948279",
   "metadata": {},
   "outputs": [],
   "source": [
    "from sklearn.model_selection import train_test_split\n",
    "X_train, X_test, y_train, y_test = train_test_split(X, y, test_size = 0.2, random_state = random_seed)"
   ]
  },
  {
   "cell_type": "markdown",
   "id": "086922ae",
   "metadata": {},
   "source": [
    "### Model architecture"
   ]
  },
  {
   "cell_type": "code",
   "execution_count": 39,
   "id": "f8a0d0f5",
   "metadata": {},
   "outputs": [
    {
     "name": "stdout",
     "output_type": "stream",
     "text": [
      "Model: \"sequential_3\"\n",
      "_________________________________________________________________\n",
      " Layer (type)                Output Shape              Param #   \n",
      "=================================================================\n",
      " dense_4 (Dense)             (None, 512)               18944     \n",
      "                                                                 \n",
      " dropout_2 (Dropout)         (None, 512)               0         \n",
      "                                                                 \n",
      " dense_5 (Dense)             (None, 5)                 2565      \n",
      "                                                                 \n",
      " dense_6 (Dense)             (None, 1)                 6         \n",
      "                                                                 \n",
      "=================================================================\n",
      "Total params: 21,515\n",
      "Trainable params: 21,515\n",
      "Non-trainable params: 0\n",
      "_________________________________________________________________\n"
     ]
    }
   ],
   "source": [
    "from keras.layers import Dense\n",
    "from keras.models import Sequential\n",
    " \n",
    "model = Sequential()\n",
    "model.add(Dense(128, activation='relu', input_shape=(36,)))\n",
    "model.add(Dropout(0.5))\n",
    "model.add(Dense(64, activation='relu'))\n",
    "model.add(Dense(32, activation='relu'))\n",
    "model.add(Dense(1, activation='softmax'))\n",
    "model.compile(optimizer='adam', loss='categorical_crossentropy', metrics=['accuracy'])\n",
    "model.summary()"
   ]
  },
  {
   "cell_type": "code",
   "execution_count": 40,
   "id": "fb5bd868",
   "metadata": {},
   "outputs": [
    {
     "name": "stdout",
     "output_type": "stream",
     "text": [
      "Epoch 1/20\n",
      "5740/5740 [==============================] - 12s 2ms/step - loss: 0.0000e+00 - accuracy: 0.2360 - val_loss: 0.0000e+00 - val_accuracy: 0.2370\n",
      "Epoch 2/20\n",
      "5740/5740 [==============================] - 12s 2ms/step - loss: 0.0000e+00 - accuracy: 0.2360 - val_loss: 0.0000e+00 - val_accuracy: 0.2370\n",
      "Epoch 3/20\n",
      "5740/5740 [==============================] - 12s 2ms/step - loss: 0.0000e+00 - accuracy: 0.2360 - val_loss: 0.0000e+00 - val_accuracy: 0.2370\n",
      "Epoch 4/20\n",
      "5740/5740 [==============================] - 12s 2ms/step - loss: 0.0000e+00 - accuracy: 0.2360 - val_loss: 0.0000e+00 - val_accuracy: 0.2370\n",
      "Epoch 5/20\n",
      "5740/5740 [==============================] - 11s 2ms/step - loss: 0.0000e+00 - accuracy: 0.2360 - val_loss: 0.0000e+00 - val_accuracy: 0.2370\n",
      "Epoch 6/20\n",
      "5740/5740 [==============================] - 11s 2ms/step - loss: 0.0000e+00 - accuracy: 0.2360 - val_loss: 0.0000e+00 - val_accuracy: 0.2370\n",
      "Epoch 7/20\n",
      "5740/5740 [==============================] - 11s 2ms/step - loss: 0.0000e+00 - accuracy: 0.2360 - val_loss: 0.0000e+00 - val_accuracy: 0.2370\n",
      "Epoch 8/20\n",
      "5740/5740 [==============================] - 11s 2ms/step - loss: 0.0000e+00 - accuracy: 0.2360 - val_loss: 0.0000e+00 - val_accuracy: 0.2370\n",
      "Epoch 9/20\n",
      "5740/5740 [==============================] - 11s 2ms/step - loss: 0.0000e+00 - accuracy: 0.2360 - val_loss: 0.0000e+00 - val_accuracy: 0.2370\n",
      "Epoch 10/20\n",
      "5740/5740 [==============================] - 12s 2ms/step - loss: 0.0000e+00 - accuracy: 0.2360 - val_loss: 0.0000e+00 - val_accuracy: 0.2370\n",
      "Epoch 11/20\n",
      "5740/5740 [==============================] - 11s 2ms/step - loss: 0.0000e+00 - accuracy: 0.2360 - val_loss: 0.0000e+00 - val_accuracy: 0.2370\n",
      "Epoch 12/20\n",
      "5740/5740 [==============================] - 11s 2ms/step - loss: 0.0000e+00 - accuracy: 0.2360 - val_loss: 0.0000e+00 - val_accuracy: 0.2370\n",
      "Epoch 13/20\n",
      "5740/5740 [==============================] - 11s 2ms/step - loss: 0.0000e+00 - accuracy: 0.2360 - val_loss: 0.0000e+00 - val_accuracy: 0.2370\n",
      "Epoch 14/20\n",
      "5740/5740 [==============================] - 11s 2ms/step - loss: 0.0000e+00 - accuracy: 0.2360 - val_loss: 0.0000e+00 - val_accuracy: 0.2370\n",
      "Epoch 15/20\n",
      "5740/5740 [==============================] - 11s 2ms/step - loss: 0.0000e+00 - accuracy: 0.2360 - val_loss: 0.0000e+00 - val_accuracy: 0.2370\n",
      "Epoch 16/20\n",
      "5740/5740 [==============================] - 11s 2ms/step - loss: 0.0000e+00 - accuracy: 0.2360 - val_loss: 0.0000e+00 - val_accuracy: 0.2370\n",
      "Epoch 17/20\n",
      "5740/5740 [==============================] - 12s 2ms/step - loss: 0.0000e+00 - accuracy: 0.2360 - val_loss: 0.0000e+00 - val_accuracy: 0.2370\n",
      "Epoch 18/20\n",
      "5740/5740 [==============================] - 12s 2ms/step - loss: 0.0000e+00 - accuracy: 0.2360 - val_loss: 0.0000e+00 - val_accuracy: 0.2370\n",
      "Epoch 19/20\n",
      "5740/5740 [==============================] - 11s 2ms/step - loss: 0.0000e+00 - accuracy: 0.2360 - val_loss: 0.0000e+00 - val_accuracy: 0.2370\n",
      "Epoch 20/20\n",
      "5740/5740 [==============================] - 12s 2ms/step - loss: 0.0000e+00 - accuracy: 0.2360 - val_loss: 0.0000e+00 - val_accuracy: 0.2370\n"
     ]
    }
   ],
   "source": [
    "hist = model.fit(X_train, y_train, validation_data=(X_test, y_test), epochs=20, batch_size=25)"
   ]
  },
  {
   "cell_type": "code",
   "execution_count": 41,
   "id": "46959d2f",
   "metadata": {},
   "outputs": [
    {
     "name": "stdout",
     "output_type": "stream",
     "text": [
      "1435/1435 [==============================] - 2s 1ms/step - loss: 0.0000e+00 - accuracy: 0.2370\n",
      "Test Accuracy : 0.23702257871627808\n",
      "Test Loss : 0.0\n"
     ]
    }
   ],
   "source": [
    "loss, accuracy = model.evaluate(X_test, y_test, batch_size = 25, verbose = 1)\n",
    "print(\"Test Accuracy :\", accuracy)\n",
    "print(\"Test Loss :\", loss)"
   ]
  },
  {
   "cell_type": "markdown",
   "id": "6cc1f93f",
   "metadata": {},
   "source": [
    "__Results:__ So in this example we have got an accuracy of 24%."
   ]
  },
  {
   "cell_type": "markdown",
   "id": "c0bc4302",
   "metadata": {},
   "source": [
    "### Confusion matrix"
   ]
  },
  {
   "cell_type": "code",
   "execution_count": 42,
   "id": "309651cb",
   "metadata": {},
   "outputs": [
    {
     "name": "stdout",
     "output_type": "stream",
     "text": [
      "1121/1121 [==============================] - 1s 912us/step\n"
     ]
    },
    {
     "data": {
      "image/png": "[encoded data removed]",
      "text/plain": [
       "<Figure size 640x480 with 2 Axes>"
      ]
     },
     "metadata": {},
     "output_type": "display_data"
    }
   ],
   "source": [
    "predictions = model.predict(X_test)\n",
    "class_labels = ['handwaving', 'boxing', 'handclapping', 'walking', 'running']\n",
    "max_test = y_test.astype(int).tolist()\n",
    "max_predictions = np.argmax(predictions, axis=1)\n",
    "confusion_matrix = metrics.confusion_matrix(max_test, max_predictions)\n",
    "sns.heatmap(confusion_matrix, xticklabels = class_labels, yticklabels = class_labels, annot = True, linewidths = 0.1, fmt='d', cmap = 'YlGnBu')\n",
    "plt.title(\"Confusion matrix\", fontsize = 15)\n",
    "plt.ylabel('True label')\n",
    "plt.xlabel('Predicted label')\n",
    "plt.show()"
   ]
  },
  {
   "cell_type": "markdown",
   "id": "980e9840",
   "metadata": {},
   "source": [
    "As we can see from the confusion matrix above, this model predicts every action as handwaving, which is not right. Since there are 5 different actions, that is why we have such a low accuracy."
   ]
  },
  {
   "cell_type": "markdown",
   "id": "e1c2c45b",
   "metadata": {},
   "source": [
    "## Conclusion"
   ]
  },
  {
   "cell_type": "markdown",
   "id": "b11054a0",
   "metadata": {},
   "source": [
    "LSTM (Long Short-Term Memory) and FFNN (Feedforward Neural Network) are both types of neural networks, but they are used for different tasks and have different architectures.\n",
    "\n",
    "#### LSTM\n",
    "An LSTM network is a type of recurrent neural network (RNN) that is designed to handle sequential data. \n",
    "It is particularly useful for tasks that involve long-term dependencies, such as speech recognition, language translation, and time series prediction. LSTMs have a special type of memory cell that can retain information for long periods of time, allowing them to effectively process sequences of data.\n",
    "\n",
    "In our case it is better to use LSTM with __Video analysis__: LSTMs can be used to analyze video data, for example, to predict the next frame in a video or to detect objects or actions in the video.\n",
    "\n",
    "#### FFNN\n",
    "A FFNN, on the other hand, is a type of feedforward neural network that is used for tasks that do not involve sequential data. It consists of layers of interconnected nodes (neurons) that process the input data and produce an output. FFNNs are commonly used for image classification, object detection, and other tasks that involve analyzing static data.\n",
    "\n",
    "__Comparison:__\n",
    "- LSTMs are designed to let important information persist over time. RNNs will often \"forget\" over time.\n",
    "- FFNNs are memoryless systems; after processing some input, they forget everything about that input.\n",
    "- Since LSTM is biderctional and FFNN is straightforward only, LSTM has much higher complexity.\n",
    "\n",
    "#### Results\n",
    "For LSTM I have created 2 models. In the first one I used RobustScaler for train data. In both of the models, sequences of 50 steps are used. First model showed better result with accuracy 92%, while second one was 86%.\n",
    "However, when I used FFNN my accuracy was 24%. And according to the confusion matrix, model was predicting every action as handwaving."
   ]
  }
 ],
 "metadata": {
  "kernelspec": {
   "display_name": "Python 3 (ipykernel)",
   "language": "python",
   "name": "python3"
  },
  "language_info": {
   "codemirror_mode": {
    "name": "ipython",
    "version": 3
   },
   "file_extension": ".py",
   "mimetype": "text/x-python",
   "name": "python",
   "nbconvert_exporter": "python",
   "pygments_lexer": "ipython3",
   "version": "3.9.15"
  }
 },
 "nbformat": 4,
 "nbformat_minor": 5
}
